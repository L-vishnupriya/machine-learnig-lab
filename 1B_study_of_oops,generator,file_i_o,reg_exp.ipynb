{
  "nbformat": 4,
  "nbformat_minor": 0,
  "metadata": {
    "colab": {
      "provenance": []
    },
    "kernelspec": {
      "name": "python3",
      "display_name": "Python 3"
    },
    "language_info": {
      "name": "python"
    }
  },
  "cells": [
    {
      "cell_type": "markdown",
      "source": [
        "# Object oriented programming:"
      ],
      "metadata": {
        "id": "Zx3Y4qG1_q6_"
      }
    },
    {
      "cell_type": "code",
      "execution_count": 6,
      "metadata": {
        "colab": {
          "base_uri": "https://localhost:8080/"
        },
        "id": "NEtK0WHO6a2b",
        "outputId": "28193a5a-8fa9-48ca-96f3-5d2a13bc2ed7"
      },
      "outputs": [
        {
          "output_type": "stream",
          "name": "stdout",
          "text": [
            "Buddy is a Golden Retriever and is 3 years old.\n",
            "Whiskers is a Black cat and is 2 years old.\n",
            "Buddy barks\n",
            "Whiskers meows\n"
          ]
        }
      ],
      "source": [
        "# Base Class (Parent class)\n",
        "class Animal:\n",
        "    def __init__(self, name, age):\n",
        "        self.name = name\n",
        "        self.age = age\n",
        "\n",
        "    def speak(self):\n",
        "        print(f\"{self.name} makes a sound\")\n",
        "\n",
        "# Derived Class (Child class)\n",
        "class Dog(Animal):\n",
        "    def __init__(self, name, age, breed):\n",
        "        # Inheriting from the Animal class\n",
        "        super().__init__(name, age)\n",
        "        self.breed = breed\n",
        "\n",
        "    # Overriding (Polymorphism)\n",
        "    def speak(self):\n",
        "        print(f\"{self.name} barks\")\n",
        "\n",
        "class Cat(Animal):\n",
        "    def __init__(self, name, age, color):\n",
        "        # Inheriting from the Animal class\n",
        "        super().__init__(name, age)\n",
        "        self.color = color\n",
        "\n",
        "    # Overriding the speak method (Polymorphism)\n",
        "    def speak(self):\n",
        "        print(f\"{self.name} meows\")\n",
        "\n",
        "# Creating objects of the derived classes\n",
        "dog = Dog(\"Buddy\", 3, \"Golden Retriever\")\n",
        "cat = Cat(\"Whiskers\", 2, \"Black\")\n",
        "\n",
        "\n",
        "print(f\"{dog.name} is a {dog.breed} and is {dog.age} years old.\")\n",
        "print(f\"{cat.name} is a {cat.color} cat and is {cat.age} years old.\")\n",
        "\n",
        "# Polymorphism\n",
        "dog.speak()\n",
        "cat.speak()\n",
        "\n"
      ]
    },
    {
      "cell_type": "code",
      "source": [
        "# Encapsulation\n",
        "class BankAccount:\n",
        "    def __init__(self, owner, balance=0):\n",
        "        self.owner = owner\n",
        "        self.__balance = balance  # Private attribute\n",
        "\n",
        "    def deposit(self, amount):\n",
        "        if amount > 0:\n",
        "            self.__balance += amount\n",
        "            print(f\"Deposited {amount}, current balance: {self.__balance}\")\n",
        "        else:\n",
        "            print(\"Deposit amount must be positive.\")\n",
        "\n",
        "    def withdraw(self, amount):\n",
        "        if 0 < amount <= self.__balance:\n",
        "            self.__balance -= amount\n",
        "            print(f\"Withdrew {amount}, current balance: {self.__balance}\")\n",
        "        else:\n",
        "            print(\"Insufficient balance or invalid withdrawal amount.\")\n",
        "\n",
        "    def get_balance(self):\n",
        "        return self.__balance  # Accessing private attribute via method\n",
        "\n",
        "# Creating object of BankAccount class\n",
        "account = BankAccount(\"John\", 500)\n",
        "\n",
        "account.deposit(150)\n",
        "account.withdraw(200)\n",
        "\n",
        "# Accessing private attribute via method\n",
        "print(f\"Account balance: {account.get_balance()}\")\n"
      ],
      "metadata": {
        "colab": {
          "base_uri": "https://localhost:8080/"
        },
        "id": "8FTRbulI8_9K",
        "outputId": "c50b8ed9-6c32-46f8-ea74-b526f1a19a33"
      },
      "execution_count": 7,
      "outputs": [
        {
          "output_type": "stream",
          "name": "stdout",
          "text": [
            "Deposited 150, current balance: 650\n",
            "Withdrew 200, current balance: 450\n",
            "Account balance: 450\n"
          ]
        }
      ]
    },
    {
      "cell_type": "markdown",
      "source": [
        "# Generator:"
      ],
      "metadata": {
        "id": "IV5Yc_bi_y3z"
      }
    },
    {
      "cell_type": "code",
      "source": [
        "# Generator function to yield squares of numbers\n",
        "def square_numbers(n):\n",
        "    for i in range(n):\n",
        "        yield i * i\n",
        "\n",
        "# Create a generator object\n",
        "squares = square_numbers(5)\n",
        "\n",
        "# Iterate over the generator to get values\n",
        "for square in squares:\n",
        "    print(square)\n"
      ],
      "metadata": {
        "colab": {
          "base_uri": "https://localhost:8080/"
        },
        "id": "h5hfPpvA9ZhI",
        "outputId": "67cba498-7cbf-46f5-8b3f-9ad49591d127"
      },
      "execution_count": 8,
      "outputs": [
        {
          "output_type": "stream",
          "name": "stdout",
          "text": [
            "0\n",
            "1\n",
            "4\n",
            "9\n",
            "16\n"
          ]
        }
      ]
    },
    {
      "cell_type": "markdown",
      "source": [
        "## File I/O:"
      ],
      "metadata": {
        "id": "cmlgdMa0_4D1"
      }
    },
    {
      "cell_type": "code",
      "source": [
        "# Writing to a file\n",
        "with open(\"example.txt\", \"w\") as file:\n",
        "    file.write(\"Hello, this is a simple file I/O example in Python.\\n\")\n",
        "    file.write(\"Python makes file handling easy!\")\n",
        "\n",
        "# Reading from the file\n",
        "with open(\"example.txt\", \"r\") as file:\n",
        "    content = file.read()\n",
        "    print(\"Content of the file:\")\n",
        "    print(content)\n"
      ],
      "metadata": {
        "colab": {
          "base_uri": "https://localhost:8080/"
        },
        "id": "jqEBjwST9bsQ",
        "outputId": "61a269e0-5964-467b-ac0b-9a7a4bfc3013"
      },
      "execution_count": 9,
      "outputs": [
        {
          "output_type": "stream",
          "name": "stdout",
          "text": [
            "Content of the file:\n",
            "Hello, this is a simple file I/O example in Python.\n",
            "Python makes file handling easy!\n"
          ]
        }
      ]
    },
    {
      "cell_type": "markdown",
      "source": [
        "# Regular Expression:"
      ],
      "metadata": {
        "id": "zIvBqUvM_-br"
      }
    },
    {
      "cell_type": "code",
      "source": [
        "import re\n",
        "\n",
        "# string\n",
        "text = \"The price of the book is 500 dollars\"\n",
        "\n",
        "# 1. Using re.match()\n",
        "match_result = re.match(r\"The\", text)\n",
        "if match_result:\n",
        "    print(\"Match found at the beginning of the text:\", match_result.group())\n",
        "else:\n",
        "    print(\"No match at the beginning.\")\n",
        "\n",
        "# 2. Using re.search()\n",
        "search_result = re.search(r\"\\d+\", text)\n",
        "if search_result:\n",
        "    print(\"First number found:\", search_result.group())\n",
        "else:\n",
        "    print(\"No number found.\")\n",
        "\n",
        "# 3. Using re.findall()\n",
        "findall_result = re.findall(r\"\\d+\", text)\n",
        "print(\"All numbers found:\", findall_result)\n",
        "\n",
        "# 4. Using re.sub()\n",
        "replaced_text = re.sub(r\"\\d+\", \"XXX\", text)\n",
        "print(\"Text after replacement:\", replaced_text)\n"
      ],
      "metadata": {
        "colab": {
          "base_uri": "https://localhost:8080/"
        },
        "id": "0VUWt4i2_HPd",
        "outputId": "b01cab2f-fc41-4f6a-cdbd-dcade418de04"
      },
      "execution_count": 11,
      "outputs": [
        {
          "output_type": "stream",
          "name": "stdout",
          "text": [
            "Match found at the beginning of the text: The\n",
            "First number found: 500\n",
            "All numbers found: ['500']\n",
            "Text after replacement: The price of the book is XXX dollars\n"
          ]
        }
      ]
    },
    {
      "cell_type": "code",
      "source": [
        "import re\n",
        "\n",
        "# string\n",
        "text = \"My number is 123-456-7890 and my email is test@test.com.\"\n",
        "\n",
        "# 1. Searching for a pattern (find the first phone number)\n",
        "pattern = r\"\\d{3}-\\d{3}-\\d{4}\"\n",
        "match = re.search(pattern, text)\n",
        "if match:\n",
        "    print(\"Phone number found:\", match.group())\n",
        "else:\n",
        "    print(\"No phone number found.\")\n",
        "\n",
        "# 2. Matching a pattern (check if the email matches the pattern)\n",
        "pattern_email = r\"^[a-zA-Z0-9_.+-]+@[a-zA-Z0-9-]+\\.[a-zA-Z0-9-.]+$\"\n",
        "email = \"test@test.com\"\n",
        "if re.match(pattern_email, email):\n",
        "    print(\"Valid email:\", email)\n",
        "else:\n",
        "    print(\"Invalid email:\", email)\n",
        "\n",
        "# 3. Finding all matches\n",
        "phone_numbers = re.findall(r\"\\d{3}-\\d{3}-\\d{4}\", text)\n",
        "print(\"All phone numbers found:\", phone_numbers)\n",
        "\n",
        "# 4. Replacing patterns\n",
        "new_text = re.sub(r\"\\d{3}-\\d{3}-\\d{4}\", \"XXX-XXX-XXXX\", text)\n",
        "print(\"Text after replacement:\", new_text)\n"
      ],
      "metadata": {
        "colab": {
          "base_uri": "https://localhost:8080/"
        },
        "id": "xXgA4DDZALvY",
        "outputId": "bd8284b9-b0b5-4119-bcaf-1d1feeffdcc0"
      },
      "execution_count": 12,
      "outputs": [
        {
          "output_type": "stream",
          "name": "stdout",
          "text": [
            "Phone number found: 123-456-7890\n",
            "Valid email: test@test.com\n",
            "All phone numbers found: ['123-456-7890']\n",
            "Text after replacement: My number is XXX-XXX-XXXX and my email is test@test.com.\n"
          ]
        }
      ]
    }
  ]
}