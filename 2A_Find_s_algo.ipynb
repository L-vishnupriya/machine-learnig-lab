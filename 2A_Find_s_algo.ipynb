{
 "cells": [
  {
   "cell_type": "markdown",
   "metadata": {},
   "source": [
    "# Find s algorithm:"
   ]
  },
  {
   "cell_type": "code",
   "execution_count": 4,
   "metadata": {},
   "outputs": [],
   "source": [
    "import pandas as pd"
   ]
  },
  {
   "cell_type": "code",
   "execution_count": 5,
   "metadata": {},
   "outputs": [],
   "source": [
    "# Load dataset \n",
    "file_path = \"C:\\\\Users\\\\cse\\\\Downloads\\\\mldataset.csv\" "
   ]
  },
  {
   "cell_type": "code",
   "execution_count": 6,
   "metadata": {},
   "outputs": [],
   "source": [
    "# Extract features and target variable\n",
    "attributes = data.columns[:-1]  \n",
    "target_column = data.columns[-1] "
   ]
  },
  {
   "cell_type": "code",
   "execution_count": 7,
   "metadata": {},
   "outputs": [],
   "source": [
    "# Find-S Algorithm \n",
    "def find_s_algorithm(data, attributes, target_column):\n",
    "    hypothesis = [\"∅\"] * len(attributes) \n",
    "    print(f\"Initial Hypothesis: {hypothesis}\\n\")\n",
    "\n",
    "    for i, row in data.iterrows():\n",
    "        if row[target_column] == \"Yes\": \n",
    "            if hypothesis == [\"∅\"] * len(attributes):  \n",
    "                hypothesis = row[attributes].tolist()  # First positive example\n",
    "                print(f\"After first positive example {i+1}: {hypothesis}\\n\")\n",
    "            else:\n",
    "               \n",
    "                for j in range(len(attributes)):\n",
    "                    if hypothesis[j] != row[attributes[j]]:\n",
    "                        hypothesis[j] = \"?\"\n",
    "                print(f\"Updated Hypothesis after example {i+1}: {hypothesis}\\n\")\n",
    "\n",
    "    return hypothesis\n",
    "\n",
    "\n"
   ]
  },
  {
   "cell_type": "code",
   "execution_count": 8,
   "metadata": {},
   "outputs": [
    {
     "name": "stdout",
     "output_type": "stream",
     "text": [
      "Initial Hypothesis: ['∅', '∅', '∅', '∅', '∅', '∅']\n",
      "\n",
      "After first positive example 1: ['Sunny', 'Warm', 'Normal', 'Strong', 'Warm', 'Same']\n",
      "\n",
      "Updated Hypothesis after example 2: ['Sunny', 'Warm', '?', 'Strong', 'Warm', 'Same']\n",
      "\n",
      "Updated Hypothesis after example 4: ['Sunny', 'Warm', '?', 'Strong', '?', '?']\n",
      "\n",
      "Updated Hypothesis after example 6: ['Sunny', 'Warm', '?', '?', '?', '?']\n",
      "\n",
      "Updated Hypothesis after example 8: ['Sunny', '?', '?', '?', '?', '?']\n",
      "\n",
      "Updated Hypothesis after example 9: ['?', '?', '?', '?', '?', '?']\n",
      "\n",
      "Final Hypothesis: ['?', '?', '?', '?', '?', '?']\n"
     ]
    }
   ],
   "source": [
    "final_hypothesis = find_s_algorithm(data, attributes, target_column)\n",
    "\n",
    "\n",
    "print(\"Final Hypothesis:\", final_hypothesis)\n",
    "\n"
   ]
  },
  {
   "cell_type": "markdown",
   "metadata": {},
   "source": []
  },
  {
   "cell_type": "code",
   "execution_count": 10,
   "metadata": {},
   "outputs": [],
   "source": []
  },
  {
   "cell_type": "code",
   "execution_count": 12,
   "metadata": {},
   "outputs": [],
   "source": []
  },
  {
   "cell_type": "code",
   "execution_count": 13,
   "metadata": {},
   "outputs": [],
   "source": [
    "\n"
   ]
  },
  {
   "cell_type": "code",
   "execution_count": null,
   "metadata": {},
   "outputs": [],
   "source": []
  },
  {
   "cell_type": "code",
   "execution_count": null,
   "metadata": {},
   "outputs": [],
   "source": []
  }
 ],
 "metadata": {
  "kernelspec": {
   "display_name": "Python 3",
   "language": "python",
   "name": "python3"
  },
  "language_info": {
   "codemirror_mode": {
    "name": "ipython",
    "version": 3
   },
   "file_extension": ".py",
   "mimetype": "text/x-python",
   "name": "python",
   "nbconvert_exporter": "python",
   "pygments_lexer": "ipython3",
   "version": "3.7.3"
  }
 },
 "nbformat": 4,
 "nbformat_minor": 2
}
