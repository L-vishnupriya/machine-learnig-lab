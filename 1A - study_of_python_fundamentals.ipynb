{
  "nbformat": 4,
  "nbformat_minor": 0,
  "metadata": {
    "colab": {
      "provenance": []
    },
    "kernelspec": {
      "name": "python3",
      "display_name": "Python 3"
    },
    "language_info": {
      "name": "python"
    }
  },
  "cells": [
    {
      "cell_type": "markdown",
      "source": [
        "# Dictionaties:"
      ],
      "metadata": {
        "id": "oYBan6QQ1MR5"
      }
    },
    {
      "cell_type": "code",
      "execution_count": 3,
      "metadata": {
        "colab": {
          "base_uri": "https://localhost:8080/"
        },
        "id": "zWER2P6zw2h6",
        "outputId": "13fe7b51-a335-4d56-dc66-e530c46aebf3"
      },
      "outputs": [
        {
          "output_type": "stream",
          "name": "stdout",
          "text": [
            "vishnu\n"
          ]
        }
      ],
      "source": [
        "student = {\"name\":\"vishnu\",\"age\":20,\"courses\":[\"cs\",\"maths\"]}\n",
        "print(student[\"name\"])\n"
      ]
    },
    {
      "cell_type": "code",
      "source": [
        "student = {\"name\":\"vishnu\",\"age\":20,\"courses\":[\"cs\",\"maths\"]}\n",
        "print(student[\"name\"])\n",
        "student[\"grade\"]=\"A\"\n",
        "student[\"age\"]=22\n",
        "student[\"courses\"]=\"tamil\"\n",
        "for key,value in student.items():\n",
        "  print(f\"{key}:{value}\")"
      ],
      "metadata": {
        "colab": {
          "base_uri": "https://localhost:8080/"
        },
        "id": "z1BdOWlv0Yqi",
        "outputId": "d98c7c85-f13e-4eb0-c2ca-73cd5a6ee9ba"
      },
      "execution_count": 5,
      "outputs": [
        {
          "output_type": "stream",
          "name": "stdout",
          "text": [
            "vishnu\n",
            "name:vishnu\n",
            "age:22\n",
            "courses:tamil\n",
            "grade:A\n"
          ]
        }
      ]
    },
    {
      "cell_type": "markdown",
      "source": [
        "# Tuples:"
      ],
      "metadata": {
        "id": "JuknSnj41hbW"
      }
    },
    {
      "cell_type": "code",
      "source": [
        "coordinates = (10.0,20.0)\n",
        "print(coordinates[0])\n",
        "for value in coordinates:\n",
        "  print(value)"
      ],
      "metadata": {
        "colab": {
          "base_uri": "https://localhost:8080/"
        },
        "id": "cRvyhLbY05jX",
        "outputId": "408f40ca-881d-4cad-89b2-65cd7eaf45c3"
      },
      "execution_count": 6,
      "outputs": [
        {
          "output_type": "stream",
          "name": "stdout",
          "text": [
            "10.0\n",
            "10.0\n",
            "20.0\n"
          ]
        }
      ]
    },
    {
      "cell_type": "markdown",
      "source": [
        "# Functions:"
      ],
      "metadata": {
        "id": "pgZtnk_o2Oh1"
      }
    },
    {
      "cell_type": "code",
      "source": [
        "def add_numbers(a,b):\n",
        "  return a+b\n",
        "\n",
        "result=add_numbers(10,3)\n",
        "print(result)\n",
        "\n"
      ],
      "metadata": {
        "colab": {
          "base_uri": "https://localhost:8080/"
        },
        "id": "r9GpuAzi1xLM",
        "outputId": "6fbead8b-307e-49b8-c9aa-d45a728eb191"
      },
      "execution_count": 10,
      "outputs": [
        {
          "output_type": "stream",
          "name": "stdout",
          "text": [
            "13\n"
          ]
        }
      ]
    },
    {
      "cell_type": "code",
      "source": [
        "def greet(name=\"priya\"):\n",
        "  print(f\"hello\",{name})\n",
        "greet()\n"
      ],
      "metadata": {
        "colab": {
          "base_uri": "https://localhost:8080/"
        },
        "id": "G3eBwyL02RkT",
        "outputId": "0c3010f7-9175-4575-8371-c36816748654"
      },
      "execution_count": 16,
      "outputs": [
        {
          "output_type": "stream",
          "name": "stdout",
          "text": [
            "hello {'priya'}\n"
          ]
        }
      ]
    },
    {
      "cell_type": "markdown",
      "source": [
        "# Looping:"
      ],
      "metadata": {
        "id": "pmAYg9ig3Uls"
      }
    },
    {
      "cell_type": "code",
      "source": [
        "cars = [\"bmw\",\"ferrori\"]\n",
        "for car in cars:\n",
        "    print(car)"
      ],
      "metadata": {
        "colab": {
          "base_uri": "https://localhost:8080/"
        },
        "id": "Jdmcx_uU253k",
        "outputId": "d369b0be-499a-448d-9c42-a4b086a7d6a6"
      },
      "execution_count": 21,
      "outputs": [
        {
          "output_type": "stream",
          "name": "stdout",
          "text": [
            "bmw\n",
            "ferrori\n"
          ]
        }
      ]
    },
    {
      "cell_type": "code",
      "source": [
        "count=5\n",
        "while count>0:\n",
        "    print(count)\n",
        "    count-=1"
      ],
      "metadata": {
        "colab": {
          "base_uri": "https://localhost:8080/"
        },
        "id": "dC8EzAM_30oe",
        "outputId": "f39cf00a-0b70-45fa-df70-2b1ef0c1da4e"
      },
      "execution_count": 24,
      "outputs": [
        {
          "output_type": "stream",
          "name": "stdout",
          "text": [
            "5\n",
            "4\n",
            "3\n",
            "2\n",
            "1\n"
          ]
        }
      ]
    }
  ]
}